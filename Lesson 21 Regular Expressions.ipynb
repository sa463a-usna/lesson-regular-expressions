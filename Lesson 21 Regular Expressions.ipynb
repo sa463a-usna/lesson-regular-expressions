{
 "cells": [
  {
   "cell_type": "markdown",
   "id": "2642ca0a-d7ea-4bb7-af25-e58a260b3a60",
   "metadata": {},
   "source": [
    "**SA433 &#x25aa; Data Wrangling and Visualization &#x25aa; Fall 2024**"
   ]
  },
  {
   "cell_type": "markdown",
   "id": "a85f31bf-25e6-4c76-901b-0ed1cbc3e03e",
   "metadata": {},
   "source": [
    "# Lesson 21. Regular Expressions"
   ]
  },
  {
   "cell_type": "markdown",
   "id": "42698472-175c-416a-9269-eb4d9de74290",
   "metadata": {},
   "source": [
    "## Overview"
   ]
  },
  {
   "cell_type": "markdown",
   "id": "3e8e3a74-4e34-4ac8-9aa7-5bc1c1e01892",
   "metadata": {},
   "source": [
    "- A **regular expression** (**regex** for short) is a pattern used to match character combinations in strings\n",
    "\n",
    "\n",
    "- They are extremely useful, but they can be a bit difficult to use\n",
    "\n",
    "\n",
    "- First, we'll spend some time learning the basics of regular expressions \n",
    "\n",
    "\n",
    "- Then, we'll see how regular expressions can be used in data wrangling"
   ]
  },
  {
   "cell_type": "markdown",
   "id": "a895bbed-d1dc-4eaf-8e30-0fe460c49fd6",
   "metadata": {},
   "source": [
    "<hr style=\"border-top: 2px solid gray; margin-top: 1px; margin-bottom: 1px\"></hr>"
   ]
  },
  {
   "cell_type": "markdown",
   "id": "e55542bc-e665-4ace-a29b-97470dd67a29",
   "metadata": {},
   "source": [
    "## An introduction to regular expressions"
   ]
  },
  {
   "cell_type": "markdown",
   "id": "e4855899-9ceb-4166-9aec-f0f90a7aaeb1",
   "metadata": {},
   "source": [
    "### Regular expressions in Python"
   ]
  },
  {
   "cell_type": "markdown",
   "id": "edef8351-a5fb-4b10-a355-46fc2bea5f7d",
   "metadata": {},
   "source": [
    "- Regular expressions are part of the Python Standard Library, in the `re` module\n",
    "    - [Documentation for the `re` module](https://docs.python.org/3/library/re.html)"
   ]
  },
  {
   "cell_type": "markdown",
   "id": "b828d89c-a910-4e39-962f-77927f15fa4e",
   "metadata": {},
   "source": [
    "- Let's begin by importing `re`:"
   ]
  },
  {
   "cell_type": "code",
   "execution_count": null,
   "id": "9889406f-f3bf-4c3a-9527-040b67358419",
   "metadata": {},
   "outputs": [],
   "source": [
    "import re"
   ]
  },
  {
   "cell_type": "markdown",
   "id": "bc31f835-8b37-48fe-b8b2-1500c4821c2e",
   "metadata": {},
   "source": [
    "- To perform a match with regular expressions, we can use the `re.search()` method "
   ]
  },
  {
   "cell_type": "markdown",
   "id": "74e220b9-96b2-4c71-8ae2-3829eabf0e32",
   "metadata": {},
   "source": [
    "- `re.search(PATTERN, STRING)` scans through `STRING` looking for the *first* location where the regular expression `PATTERN` produces a match\n",
    "\n",
    "    - To make your lives easier, make sure to use a **raw string** for `PATTERN`:\n",
    "\n",
    "        ```python\n",
    "        r'This is a raw string'\n",
    "        ```\n",
    "        <br>\n",
    "        \n",
    "        - Regular expressions often require a lot of special characters, like backslashes (`\\`)\n",
    "        - Using raw strings prevents the special characters from taking on their usual behaviors<br><br>\n",
    "\n",
    "    - `re.search()` returns a **match object** if it finds a match, or `None` if no position in the string matches the pattern "
   ]
  },
  {
   "cell_type": "markdown",
   "id": "4ee23aff-c5c3-4574-8073-73397895b016",
   "metadata": {},
   "source": [
    "- For example, to find where the substring `an` matches in the string `banana`, we can write: "
   ]
  },
  {
   "cell_type": "code",
   "execution_count": null,
   "id": "82526fd2-87d5-4b53-a30f-48980e7619d2",
   "metadata": {},
   "outputs": [],
   "source": [
    "print(re.search(r'an', 'banana'))"
   ]
  },
  {
   "cell_type": "markdown",
   "id": "26293c86-1eeb-45ca-9ac0-59f8431870a0",
   "metadata": {},
   "source": [
    "- Similarly, we can find where `an` matches in `apple` like this:"
   ]
  },
  {
   "cell_type": "code",
   "execution_count": null,
   "id": "3886cf54-a5ac-4c1d-9e23-d3cef0eed0ff",
   "metadata": {},
   "outputs": [],
   "source": [
    "print(re.search(r'an', 'apple'))"
   ]
  },
  {
   "cell_type": "markdown",
   "id": "df77137f-6ec3-49ee-9e53-d476e2793cc5",
   "metadata": {},
   "source": [
    "- To help us learn about regular expressions, we'll use the function `view_regex_search()` defined below, which lets us see visually how a regular expression matches with a string or a list of strings:"
   ]
  },
  {
   "cell_type": "code",
   "execution_count": null,
   "id": "01356719-e2c7-4750-b189-db76fd5a0e98",
   "metadata": {},
   "outputs": [],
   "source": [
    "from IPython.display import display, HTML\n",
    "\n",
    "def view_regex_search(regex, strings):\n",
    "    \"\"\"\n",
    "    View the results of `re.search()` visually in a Jupyter notebook.\n",
    "    \n",
    "    - regex: string containing regular expression\n",
    "    - strings: string or list of strings\n",
    "    \"\"\"\n",
    "    if isinstance(strings, str):\n",
    "        strings = [strings]\n",
    "        \n",
    "    for string in strings:\n",
    "        match = re.search(regex, string)\n",
    "        if match:\n",
    "            l, r = match.span()\n",
    "\n",
    "            string_left = string[:l]\n",
    "            string_match = string[l:r]\n",
    "            string_right = string[r:]\n",
    "\n",
    "            string_html = (\n",
    "                '<pre>'\n",
    "                + string_left \n",
    "                + '<span style=\"background-color:lightgrey;'\n",
    "                + 'border: 1px solid gray;border-radius:2px\">'\n",
    "                + string_match\n",
    "                + '</span>'\n",
    "                + string_right\n",
    "                + '</pre>'\n",
    "            )\n",
    "\n",
    "        else:\n",
    "            string_html = '<pre>' + string + '</pre>'\n",
    "            \n",
    "        display(HTML(string_html)) "
   ]
  },
  {
   "cell_type": "markdown",
   "id": "c96a452d-5f8e-4fdf-8ecb-1536c976d81e",
   "metadata": {},
   "source": [
    "### Basic matches"
   ]
  },
  {
   "cell_type": "markdown",
   "id": "8793cbd1-4a2e-4039-971c-660603a1c3b5",
   "metadata": {},
   "source": [
    "- The simplest patterns match exact strings:"
   ]
  },
  {
   "cell_type": "code",
   "execution_count": null,
   "id": "e7762336-c158-4996-8fd5-2bf74f3fad77",
   "metadata": {
    "editable": true,
    "slideshow": {
     "slide_type": ""
    },
    "tags": []
   },
   "outputs": [],
   "source": [
    "view_regex_search(..., ['apple', 'banana', 'pear'])"
   ]
  },
  {
   "cell_type": "markdown",
   "id": "bdba6c16-e84f-41bd-b2f5-cb94d7f2ca19",
   "metadata": {
    "editable": true,
    "slideshow": {
     "slide_type": ""
    },
    "tags": []
   },
   "source": [
    "- The next step up in complexity is `.`, which matches any character except a newline:"
   ]
  },
  {
   "cell_type": "code",
   "execution_count": null,
   "id": "9ada8a15-115e-4162-a52c-d1691095aca7",
   "metadata": {
    "editable": true,
    "slideshow": {
     "slide_type": ""
    },
    "tags": []
   },
   "outputs": [],
   "source": [
    "view_regex_search(..., ['apple', 'banana', 'pear'])"
   ]
  },
  {
   "cell_type": "markdown",
   "id": "4afc7ea2-6449-4480-8030-ec25b0c7e235",
   "metadata": {
    "editable": true,
    "slideshow": {
     "slide_type": ""
    },
    "tags": []
   },
   "source": [
    "### Escaping (aka backslash despair)"
   ]
  },
  {
   "cell_type": "markdown",
   "id": "24a1e426-8969-4eaf-b991-a74154a1292b",
   "metadata": {
    "editable": true,
    "slideshow": {
     "slide_type": ""
    },
    "tags": []
   },
   "source": [
    "- Wait a minute... if `.` matches any character, how do we match the character `.` specifically? 🤔"
   ]
  },
  {
   "cell_type": "markdown",
   "id": "6ddf0c55-3831-49a7-b9e4-5907911e41dc",
   "metadata": {
    "editable": true,
    "slideshow": {
     "slide_type": ""
    },
    "tags": []
   },
   "source": [
    "- We can **escape** a special character like `.` by putting a backslash `\\` in front of it to tell the regular expression that we want to match it exactly, and not use its special behavior\n",
    "    - We'll see more special characters in a moment"
   ]
  },
  {
   "cell_type": "markdown",
   "id": "a00dd161-6b21-4173-82fd-d5b858bc6734",
   "metadata": {
    "editable": true,
    "slideshow": {
     "slide_type": ""
    },
    "tags": []
   },
   "source": [
    "- For example:"
   ]
  },
  {
   "cell_type": "code",
   "execution_count": null,
   "id": "bb8226d8-f115-476e-83fc-739b34de25f3",
   "metadata": {
    "editable": true,
    "slideshow": {
     "slide_type": ""
    },
    "tags": []
   },
   "outputs": [],
   "source": [
    "view_regex_search(..., ['abc', 'a.c', 'bef'])"
   ]
  },
  {
   "cell_type": "markdown",
   "id": "d1273e0b-a898-40eb-b311-8ae7ace1b215",
   "metadata": {
    "editable": true,
    "slideshow": {
     "slide_type": ""
    },
    "tags": []
   },
   "source": [
    "- Hold on... if we use backlashes to escape special characters, how do we match the character `\\` specifically?\n",
    "\n",
    "\n",
    "- We use *2* backslashes, like this 🤦‍♀️:"
   ]
  },
  {
   "cell_type": "code",
   "execution_count": null,
   "id": "c7d7c63e-63ed-4155-9d0f-a301bdf91075",
   "metadata": {
    "editable": true,
    "slideshow": {
     "slide_type": ""
    },
    "tags": []
   },
   "outputs": [],
   "source": [
    "view_regex_search(..., [\"a\\\\b\", \"abc\"])"
   ]
  },
  {
   "cell_type": "markdown",
   "id": "e8df759b-fe93-4204-ac34-8fe099021e12",
   "metadata": {
    "editable": true,
    "slideshow": {
     "slide_type": ""
    },
    "tags": []
   },
   "source": [
    "### Anchors"
   ]
  },
  {
   "cell_type": "markdown",
   "id": "e4ffcfcc-5b31-4f5b-a3b7-e579c8b6f16a",
   "metadata": {
    "editable": true,
    "slideshow": {
     "slide_type": ""
    },
    "tags": []
   },
   "source": [
    "- It's often useful to **anchor** the regular expression so that it matches from the start or end of the string"
   ]
  },
  {
   "cell_type": "markdown",
   "id": "a003c507-d6ea-40fe-aff8-c8957c5db686",
   "metadata": {
    "editable": true,
    "slideshow": {
     "slide_type": ""
    },
    "tags": []
   },
   "source": [
    "- We can use:\n",
    "    - `^` to match the start of the string\n",
    "    - `$` to match the end of the string"
   ]
  },
  {
   "cell_type": "code",
   "execution_count": null,
   "id": "967e5b55-e750-41ff-acba-3e6427bc9a43",
   "metadata": {
    "editable": true,
    "slideshow": {
     "slide_type": ""
    },
    "tags": []
   },
   "outputs": [],
   "source": [
    "view_regex_search(..., ['apple', 'banana', 'pear'])"
   ]
  },
  {
   "cell_type": "code",
   "execution_count": null,
   "id": "cebdb056-50fc-47e3-aca4-a74fbb03728f",
   "metadata": {
    "editable": true,
    "slideshow": {
     "slide_type": ""
    },
    "tags": []
   },
   "outputs": [],
   "source": [
    "view_regex_search(..., ['apple', 'banana', 'pear'])"
   ]
  },
  {
   "cell_type": "markdown",
   "id": "d2251afe-992f-4764-827b-da110007aec1",
   "metadata": {
    "editable": true,
    "slideshow": {
     "slide_type": ""
    },
    "tags": []
   },
   "source": [
    "❓ **Exercise 1.** Write a regular expression that matches only the second string in this list: \n",
    "\n",
    "```python\n",
    "['apple pie', 'apple', 'apple cake']\n",
    "```"
   ]
  },
  {
   "cell_type": "code",
   "execution_count": null,
   "id": "2d2f6635-dc76-4ae9-9e45-ea93d6730896",
   "metadata": {
    "editable": true,
    "slideshow": {
     "slide_type": ""
    },
    "tags": []
   },
   "outputs": [],
   "source": [
    "view_regex_search(..., ['apple pie', 'apple', 'apple cake'])"
   ]
  },
  {
   "cell_type": "markdown",
   "id": "b28be198-8689-4f99-9178-7fe45fe82a7f",
   "metadata": {
    "editable": true,
    "slideshow": {
     "slide_type": ""
    },
    "tags": []
   },
   "source": [
    "❓ **Exercise 2.** Write a regular expression that matches only the first string in this list:\n",
    "\n",
    "```python\n",
    "['$^$', 'ab$^$sfas']\n",
    "```"
   ]
  },
  {
   "cell_type": "code",
   "execution_count": null,
   "id": "f915f0fc-19f8-4856-b0fe-16d36a485684",
   "metadata": {
    "editable": true,
    "slideshow": {
     "slide_type": ""
    },
    "tags": []
   },
   "outputs": [],
   "source": [
    "view_regex_search(..., ['$^$', 'ab$^$sfas'])"
   ]
  },
  {
   "cell_type": "markdown",
   "id": "6e2d8538-bf0f-48bf-b5f8-c6931f662e3d",
   "metadata": {
    "editable": true,
    "slideshow": {
     "slide_type": ""
    },
    "tags": []
   },
   "source": [
    "### Character classes"
   ]
  },
  {
   "cell_type": "markdown",
   "id": "5f105106-9804-430e-b401-0c3442d4e273",
   "metadata": {
    "editable": true,
    "slideshow": {
     "slide_type": ""
    },
    "tags": []
   },
   "source": [
    "- There are a variety of special characters that distinguish between different types of characters"
   ]
  },
  {
   "cell_type": "markdown",
   "id": "2755fba7-22e9-4fc1-960a-0ba2402c8e6d",
   "metadata": {
    "editable": true,
    "slideshow": {
     "slide_type": ""
    },
    "tags": []
   },
   "source": [
    "- For example:\n",
    "    - `\\d` matches any digit\n",
    "    - `\\s` matches any whitespace (e.g., space, tab, newline)\n",
    "    - `[abc]` matches `a`, `b`, or `c`\n",
    "    - `[^abc]` matches anything except `a`, `b`, or `c`"
   ]
  },
  {
   "cell_type": "code",
   "execution_count": null,
   "id": "0472d30f-3b0b-4d44-8e05-2e786ea233d6",
   "metadata": {
    "editable": true,
    "slideshow": {
     "slide_type": ""
    },
    "tags": []
   },
   "outputs": [],
   "source": [
    "view_regex_search(..., ['apple', '2 apples', '3   apples'])"
   ]
  },
  {
   "cell_type": "code",
   "execution_count": null,
   "id": "339bc78e-ece5-43b3-8748-4316273a8f76",
   "metadata": {
    "editable": true,
    "slideshow": {
     "slide_type": ""
    },
    "tags": []
   },
   "outputs": [],
   "source": [
    "view_regex_search(..., ['apple', '2 apples', '3   apples'])"
   ]
  },
  {
   "cell_type": "code",
   "execution_count": null,
   "id": "b5be0df7-57f2-412c-88fc-773e2a43fb28",
   "metadata": {
    "editable": true,
    "slideshow": {
     "slide_type": ""
    },
    "tags": []
   },
   "outputs": [],
   "source": [
    "view_regex_search(..., ['apple', '2 apples', '3   apples'])"
   ]
  },
  {
   "cell_type": "markdown",
   "id": "d52d5d62-80b1-4183-9d74-db4a338e4a20",
   "metadata": {
    "editable": true,
    "slideshow": {
     "slide_type": ""
    },
    "tags": []
   },
   "source": [
    "### Alternation"
   ]
  },
  {
   "cell_type": "markdown",
   "id": "0704d34a-3026-43c0-a73d-ece259977d1d",
   "metadata": {
    "editable": true,
    "slideshow": {
     "slide_type": ""
    },
    "tags": []
   },
   "source": [
    "- You can also match one or more alternative patterns with `|`\n",
    "\n",
    "\n",
    "- To clarify how things are grouped, we can use parentheses, just like with mathematical expressions\n",
    "\n",
    "\n",
    "- For example, to match \"gray\" or \"grey\", we can write:"
   ]
  },
  {
   "cell_type": "code",
   "execution_count": null,
   "id": "85ba0a0c-d683-4728-b4e1-9f693edbf7d1",
   "metadata": {
    "editable": true,
    "slideshow": {
     "slide_type": ""
    },
    "tags": []
   },
   "outputs": [],
   "source": [
    "view_regex_search(..., ['grey', 'gray'])"
   ]
  },
  {
   "cell_type": "markdown",
   "id": "7c6ae53b-80cc-4ac5-aeba-4ad8d6ff6398",
   "metadata": {
    "editable": true,
    "slideshow": {
     "slide_type": ""
    },
    "tags": []
   },
   "source": [
    "❗️ For Exercises 3-5, use the list of random words below."
   ]
  },
  {
   "cell_type": "code",
   "execution_count": null,
   "id": "0bf301a8-c678-42fe-b6f7-68988ed46bff",
   "metadata": {
    "editable": true,
    "slideshow": {
     "slide_type": ""
    },
    "tags": []
   },
   "outputs": [],
   "source": [
    "random_word_list = ['bring', 'fierce', 'graded', 'true', 'obvious',\n",
    "                    'unlock', 'eggs', 'tremble', 'screed', 'advertise']"
   ]
  },
  {
   "cell_type": "markdown",
   "id": "50422725-b4a3-4e62-a58b-862f99b352d1",
   "metadata": {
    "editable": true,
    "slideshow": {
     "slide_type": ""
    },
    "tags": []
   },
   "source": [
    "❓️ **Exercise 3.** Write a regular expression that matches all words that start with a vowel."
   ]
  },
  {
   "cell_type": "code",
   "execution_count": null,
   "id": "5aa8e6ef-dd81-45ec-9906-def18297b3e1",
   "metadata": {
    "editable": true,
    "slideshow": {
     "slide_type": ""
    },
    "tags": []
   },
   "outputs": [],
   "source": []
  },
  {
   "cell_type": "markdown",
   "id": "c8a987cb-b0d5-4218-bcec-0d71157a2eb3",
   "metadata": {
    "editable": true,
    "slideshow": {
     "slide_type": ""
    },
    "tags": []
   },
   "source": [
    "❓ **Exercise 4.** Write a regular expression that matches all words  that end with `ed`, but not with `eed`."
   ]
  },
  {
   "cell_type": "code",
   "execution_count": null,
   "id": "d6fdcdcc-39bb-4ed8-aac0-d4dd5ba41599",
   "metadata": {
    "editable": true,
    "slideshow": {
     "slide_type": ""
    },
    "tags": []
   },
   "outputs": [],
   "source": []
  },
  {
   "cell_type": "markdown",
   "id": "3bab0b59-a7c6-46e3-8207-e9df35f720b9",
   "metadata": {
    "editable": true,
    "slideshow": {
     "slide_type": ""
    },
    "tags": []
   },
   "source": [
    "❓ **Exercise 5.** Write a regular expression that matches all words that end with `ing` or `ise`."
   ]
  },
  {
   "cell_type": "code",
   "execution_count": null,
   "id": "4b03c44b-03f4-449d-bc50-4b537c0b69aa",
   "metadata": {
    "editable": true,
    "slideshow": {
     "slide_type": ""
    },
    "tags": []
   },
   "outputs": [],
   "source": []
  },
  {
   "cell_type": "markdown",
   "id": "f8370468-1b37-4c4b-ad28-46c0baad3595",
   "metadata": {
    "editable": true,
    "slideshow": {
     "slide_type": ""
    },
    "tags": []
   },
   "source": [
    "### Repetition"
   ]
  },
  {
   "cell_type": "markdown",
   "id": "b74d5935-1c15-4c44-af6f-4e85b2905540",
   "metadata": {
    "editable": true,
    "slideshow": {
     "slide_type": ""
    },
    "tags": []
   },
   "source": [
    "- So far, the regular expressions we've written only match a pattern once"
   ]
  },
  {
   "cell_type": "markdown",
   "id": "a2ece6c7-4af4-44e8-b16c-beaabb72527f",
   "metadata": {
    "editable": true,
    "slideshow": {
     "slide_type": ""
    },
    "tags": []
   },
   "source": [
    "- We can control *how many times* a pattern matches with the following special characters:\n",
    "    - `?` matches 0 or 1\n",
    "    - `+` matches 1 or more\n",
    "    - `*` matches 0 or more"
   ]
  },
  {
   "cell_type": "markdown",
   "id": "eb71b23d-5f4f-40bf-9771-8d5ca0be6d15",
   "metadata": {
    "editable": true,
    "slideshow": {
     "slide_type": ""
    },
    "tags": []
   },
   "source": [
    "- For example:"
   ]
  },
  {
   "cell_type": "code",
   "execution_count": null,
   "id": "adb796df-650e-4fb8-ace9-45c08d9e58a2",
   "metadata": {
    "editable": true,
    "slideshow": {
     "slide_type": ""
    },
    "tags": []
   },
   "outputs": [],
   "source": [
    "view_regex_search(\n",
    "    ..., \n",
    "    \"1888 is the longest year in Roman numerals: MDCCCLXXXVIII\"\n",
    ")"
   ]
  },
  {
   "cell_type": "code",
   "execution_count": null,
   "id": "3cb260fa-339e-4116-83b7-dc00d394aede",
   "metadata": {
    "editable": true,
    "slideshow": {
     "slide_type": ""
    },
    "tags": []
   },
   "outputs": [],
   "source": [
    "view_regex_search(\n",
    "    ..., \n",
    "    \"1888 is the longest year in Roman numerals: MDCCCLXXXVIII\"\n",
    ")"
   ]
  },
  {
   "cell_type": "code",
   "execution_count": null,
   "id": "a013a043-abf5-4aee-ab59-683ee6912e3d",
   "metadata": {
    "editable": true,
    "slideshow": {
     "slide_type": ""
    },
    "tags": []
   },
   "outputs": [],
   "source": [
    "view_regex_search(\n",
    "    ..., \n",
    "    \"1888 is the longest year in Roman numerals: MDCCCLXXXVIII\"\n",
    ")"
   ]
  },
  {
   "cell_type": "markdown",
   "id": "dc3b21c9-21d4-49ea-97ac-bc24b0813fc9",
   "metadata": {
    "editable": true,
    "slideshow": {
     "slide_type": ""
    },
    "tags": []
   },
   "source": [
    "- We can also specify the number of matches precisely:\n",
    "    - `{n}`: matches exactly n\n",
    "    - `{n,}`: matches n or more\n",
    "    - `{,m}`: matches at most m\n",
    "    - `{n,m}`: matches between n and m"
   ]
  },
  {
   "cell_type": "code",
   "execution_count": null,
   "id": "1f189df4-1f22-44e5-9be5-ec8f43287f5f",
   "metadata": {
    "editable": true,
    "slideshow": {
     "slide_type": ""
    },
    "tags": []
   },
   "outputs": [],
   "source": [
    "view_regex_search(\n",
    "    ..., \n",
    "    \"1888 is the longest year in Roman numerals: MDCCCLXXXVIII\"\n",
    ")"
   ]
  },
  {
   "cell_type": "code",
   "execution_count": null,
   "id": "5f8bd818-a22b-4697-ae68-7785d0fbeb4a",
   "metadata": {
    "editable": true,
    "slideshow": {
     "slide_type": ""
    },
    "tags": []
   },
   "outputs": [],
   "source": [
    "view_regex_search(\n",
    "    ..., \n",
    "    \"1888 is the longest year in Roman numerals: MDCCCLXXXVIII\"\n",
    ")"
   ]
  },
  {
   "cell_type": "markdown",
   "id": "88d589bd-db79-43cb-9acb-a1d826d7edde",
   "metadata": {
    "editable": true,
    "slideshow": {
     "slide_type": ""
    },
    "tags": []
   },
   "source": [
    "- Note from the above examples that these matches are **greedy** by default: they will match the longest string possible\n",
    "\n",
    "\n",
    "- We can make these matches **lazy** by putting a `?` after them, like this:"
   ]
  },
  {
   "cell_type": "code",
   "execution_count": null,
   "id": "935f6cff-e09d-4d72-9463-d88938def919",
   "metadata": {
    "editable": true,
    "slideshow": {
     "slide_type": ""
    },
    "tags": []
   },
   "outputs": [],
   "source": [
    "view_regex_search(\n",
    "    ..., \n",
    "    \"1888 is the longest year in Roman numerals: MDCCCLXXXVIII\"\n",
    ")"
   ]
  },
  {
   "cell_type": "code",
   "execution_count": null,
   "id": "61dacebb-8adc-494d-8734-7e14c72667d4",
   "metadata": {
    "editable": true,
    "slideshow": {
     "slide_type": ""
    },
    "tags": []
   },
   "outputs": [],
   "source": [
    "view_regex_search(\n",
    "    ...', \n",
    "    \"1888 is the longest year in Roman numerals: MDCCCLXXXVIII\"\n",
    ")"
   ]
  },
  {
   "cell_type": "markdown",
   "id": "072423f6-3fb1-42f0-9286-a05638533689",
   "metadata": {
    "editable": true,
    "slideshow": {
     "slide_type": ""
    },
    "tags": []
   },
   "source": [
    "❗️ For Exercises 6 and 7, use `random_word_list` defined above to check your work."
   ]
  },
  {
   "cell_type": "markdown",
   "id": "e788dc3b-6d3a-4dad-a8e6-fa705db4f9d7",
   "metadata": {
    "editable": true,
    "slideshow": {
     "slide_type": ""
    },
    "tags": []
   },
   "source": [
    "❓ **Exercise 6.** Write a regular expression that matches all words that start with two consonants. "
   ]
  },
  {
   "cell_type": "code",
   "execution_count": null,
   "id": "18ad7c48-630a-486b-8321-0d5c06415e45",
   "metadata": {
    "editable": true,
    "slideshow": {
     "slide_type": ""
    },
    "tags": []
   },
   "outputs": [],
   "source": []
  },
  {
   "cell_type": "markdown",
   "id": "e9cf40f7-2d5e-407b-852d-bf217a14ec8e",
   "metadata": {
    "editable": true,
    "slideshow": {
     "slide_type": ""
    },
    "tags": []
   },
   "source": [
    "❓ **Exercise 7.** Write a regular expression that matches all words that have three or more vowels in a row."
   ]
  },
  {
   "cell_type": "code",
   "execution_count": null,
   "id": "8c10b55e-2953-4137-b186-9825ff26f1d4",
   "metadata": {
    "editable": true,
    "slideshow": {
     "slide_type": ""
    },
    "tags": []
   },
   "outputs": [],
   "source": []
  },
  {
   "cell_type": "markdown",
   "id": "00f4e09b-515b-405c-8c87-5da1aef64f1a",
   "metadata": {
    "editable": true,
    "slideshow": {
     "slide_type": ""
    },
    "tags": []
   },
   "source": [
    "### Grouping and backreferences"
   ]
  },
  {
   "cell_type": "markdown",
   "id": "2b4d3966-688c-4536-abd8-2109c461103d",
   "metadata": {
    "editable": true,
    "slideshow": {
     "slide_type": ""
    },
    "tags": []
   },
   "source": [
    "- We saw above that we can use parentheses `( )` to clarify how things are grouped"
   ]
  },
  {
   "cell_type": "markdown",
   "id": "655af261-4b6e-4c43-a33c-a2aea8a9536b",
   "metadata": {
    "editable": true,
    "slideshow": {
     "slide_type": ""
    },
    "tags": []
   },
   "source": [
    "- By default, parentheses also define a numbered *capturing group* (number  1, 2, etc.)\n",
    "    - A **capturing group** stores the part of the string matched by the part of the regular expression inside thee parentheses"
   ]
  },
  {
   "cell_type": "markdown",
   "id": "22c0d1e5-753d-44dc-876b-fc274944ff42",
   "metadata": {
    "editable": true,
    "slideshow": {
     "slide_type": ""
    },
    "tags": []
   },
   "source": [
    "- You can refer to text  previously matched by a capturing group with **backreferences** of the form `\\1`,`\\2`, etc.\n",
    "\n",
    "\n",
    "- For example, we can match words with *repeated pairs* of letters as follows:"
   ]
  },
  {
   "cell_type": "code",
   "execution_count": null,
   "id": "008937e9-d13f-406d-899b-ac3cc1a64504",
   "metadata": {
    "editable": true,
    "slideshow": {
     "slide_type": ""
    },
    "tags": []
   },
   "outputs": [],
   "source": [
    "view_regex_search(..., ['apple', 'banana', 'pear', 'coconut'])"
   ]
  },
  {
   "cell_type": "markdown",
   "id": "faf0de1b-5c23-4615-80c0-7d9a1481017b",
   "metadata": {
    "editable": true,
    "slideshow": {
     "slide_type": ""
    },
    "tags": []
   },
   "source": [
    "### Lookahead and lookbehind"
   ]
  },
  {
   "cell_type": "markdown",
   "id": "bd7535b5-6a99-4787-b79c-a9fc29fc6957",
   "metadata": {
    "editable": true,
    "slideshow": {
     "slide_type": ""
    },
    "tags": []
   },
   "source": [
    "- Parentheses don't always define a numbered capturing group... \n",
    "\n",
    "\n",
    "- Sometimes, we want to match something only if it is followed by something else\n",
    "    - For example, maybe we want to match `data` only if it is followed by `wrangling` or `visualization`"
   ]
  },
  {
   "cell_type": "markdown",
   "id": "55f90284-00a3-46db-ad92-51fc0ac2f2b3",
   "metadata": {
    "editable": true,
    "slideshow": {
     "slide_type": ""
    },
    "tags": []
   },
   "source": [
    "- We can use **lookahead** and **lookbehind** to perform these kinds of matches:\n",
    "    - **Positive lookahead.** `x(?=y)` matches `x` only if `x` is followed by `y`\n",
    "    - **Negative lookahead.** `x(?!y)` matches `x` only if `x` is *not* followed by `y`\n",
    "    - **Positive lookbehind.** `(?<=y)x` matches `x` only if `x` is preceded by `y`\n",
    "    - **Negative lookbehind.** `(?<!y)x` matches `x` only if `x` is *not* preceded by `y`"
   ]
  },
  {
   "cell_type": "markdown",
   "id": "ba6e159f-35bd-48e5-a564-1b6c9ccab26f",
   "metadata": {
    "editable": true,
    "slideshow": {
     "slide_type": ""
    },
    "tags": []
   },
   "source": [
    "- For example, to match `data` only if its followed by `wrangling` or `visualization`:"
   ]
  },
  {
   "cell_type": "code",
   "execution_count": null,
   "id": "442b9866-1552-40c2-8a0d-79cba523caa3",
   "metadata": {
    "editable": true,
    "slideshow": {
     "slide_type": ""
    },
    "tags": []
   },
   "outputs": [],
   "source": [
    "view_regex_search(\n",
    "    ...,\n",
    "    'This data requires a lot of data wrangling.'\n",
    ")"
   ]
  },
  {
   "cell_type": "markdown",
   "id": "099e400c-5b34-422a-979b-6aca613fc813",
   "metadata": {
    "editable": true,
    "slideshow": {
     "slide_type": ""
    },
    "tags": []
   },
   "source": [
    "❓ **Exercise 8.** Write a regular expression that matches the word `wrangling` only if it is *not* preceded by the word `data`. Use the following sentence to test your work:\n",
    "\n",
    "```\n",
    "Data wrangling is not the only kind of wrangling.\n",
    "```"
   ]
  },
  {
   "cell_type": "code",
   "execution_count": null,
   "id": "0fe36b53-f8b5-43b9-a89b-56a32ced7a09",
   "metadata": {
    "editable": true,
    "slideshow": {
     "slide_type": ""
    },
    "tags": []
   },
   "outputs": [],
   "source": []
  },
  {
   "cell_type": "markdown",
   "id": "b64cc579-dbbb-425c-95ec-774778f22a14",
   "metadata": {
    "editable": true,
    "slideshow": {
     "slide_type": ""
    },
    "tags": []
   },
   "source": [
    "### We've only scratched the surface..."
   ]
  },
  {
   "cell_type": "markdown",
   "id": "47694b44-75e1-448e-b5bf-01ef13b492c6",
   "metadata": {
    "editable": true,
    "slideshow": {
     "slide_type": ""
    },
    "tags": []
   },
   "source": [
    "- There are *tons* of tutorials, references, cheat sheets, etc. on regular expressions out there\n",
    "\n",
    "\n",
    "- [Here's an introduction to regular expressions from the Python documentation](https://docs.python.org/3/howto/regex.html)\n",
    "\n",
    "\n",
    "- [Here is a *very* useful website that helps you build and decipher regular expressions](https://regexr.com/)"
   ]
  },
  {
   "cell_type": "markdown",
   "id": "058130ed-2d64-4f56-9bf9-e755e61acc3d",
   "metadata": {
    "editable": true,
    "slideshow": {
     "slide_type": ""
    },
    "tags": []
   },
   "source": [
    "<hr style=\"border-top: 2px solid gray; margin-top: 1px; margin-bottom: 1px\"></hr>"
   ]
  },
  {
   "cell_type": "markdown",
   "id": "03326b22-f8fc-4346-bba0-13f52d929c78",
   "metadata": {
    "editable": true,
    "slideshow": {
     "slide_type": ""
    },
    "tags": []
   },
   "source": [
    "## Using regular expressions with Pandas"
   ]
  },
  {
   "cell_type": "markdown",
   "id": "22810e33-f382-41ad-81e4-d435354449ab",
   "metadata": {
    "editable": true,
    "slideshow": {
     "slide_type": ""
    },
    "tags": []
   },
   "source": [
    "- Regular expressions are particularly useful when we want to extract data from a descriptive source\n",
    "\n",
    "\n",
    "- Let's look at a small example\n",
    "\n",
    "\n",
    "- Let's start by importing Pandas:"
   ]
  },
  {
   "cell_type": "code",
   "execution_count": null,
   "id": "0ed65068-092c-47e7-a71b-d16127000964",
   "metadata": {
    "editable": true,
    "slideshow": {
     "slide_type": ""
    },
    "tags": []
   },
   "outputs": [],
   "source": [
    "import pandas as pd\n",
    "\n",
    "# Increase column width in this notebook\n",
    "pd.set_option('display.max_colwidth', None)"
   ]
  },
  {
   "cell_type": "markdown",
   "id": "0a0c8367-9103-42f7-8ccb-ff1c08c9f343",
   "metadata": {
    "editable": true,
    "slideshow": {
     "slide_type": ""
    },
    "tags": []
   },
   "source": [
    "- Now, let's read in this small dataset on roses, with two columns: `NAME` and `BLOOM`: "
   ]
  },
  {
   "cell_type": "code",
   "execution_count": null,
   "id": "27607f2d-bcc2-4514-94e8-09b15a80258b",
   "metadata": {
    "editable": true,
    "slideshow": {
     "slide_type": ""
    },
    "tags": []
   },
   "outputs": [],
   "source": [
    "df = pd.read_csv('data/roses.csv')\n",
    "df"
   ]
  },
  {
   "cell_type": "markdown",
   "id": "24b4556f-aaee-4811-bd43-25db81435343",
   "metadata": {
    "editable": true,
    "slideshow": {
     "slide_type": ""
    },
    "tags": []
   },
   "source": [
    "### Filtering rows "
   ]
  },
  {
   "cell_type": "markdown",
   "id": "4d321005-4a30-4805-b27e-aa0aa574f50f",
   "metadata": {
    "editable": true,
    "slideshow": {
     "slide_type": ""
    },
    "tags": []
   },
   "source": [
    "- We can use `.query()` with `.str.contains()` to filter rows whose column value matches a regular expression\n",
    "    - [Documentation for `.str.contains()`](https://pandas.pydata.org/docs/reference/api/pandas.Series.str.contains.html)"
   ]
  },
  {
   "cell_type": "markdown",
   "id": "08468668-2c89-4239-a1ad-27c7f07a778c",
   "metadata": {
    "editable": true,
    "slideshow": {
     "slide_type": ""
    },
    "tags": []
   },
   "source": [
    "- For example, we can find all rows whose `BLOOM` value contains the word \"white\", either capitalized or not, as follows: "
   ]
  },
  {
   "cell_type": "code",
   "execution_count": null,
   "id": "d51c6def-4251-4b38-819f-73e67930966c",
   "metadata": {
    "editable": true,
    "slideshow": {
     "slide_type": ""
    },
    "tags": []
   },
   "outputs": [],
   "source": []
  },
  {
   "cell_type": "markdown",
   "id": "20b3bc41-2bdb-4fc4-bae0-8369e5b7734a",
   "metadata": {
    "editable": true,
    "slideshow": {
     "slide_type": ""
    },
    "tags": []
   },
   "source": [
    "### Extracting data"
   ]
  },
  {
   "cell_type": "markdown",
   "id": "e44771a8-9bdc-4361-82ae-52f9b5610180",
   "metadata": {
    "editable": true,
    "slideshow": {
     "slide_type": ""
    },
    "tags": []
   },
   "source": [
    "- Suppose we want to extract the information about the number of petals in the `BLOOM` column"
   ]
  },
  {
   "cell_type": "markdown",
   "id": "5d2eb318-0579-4e10-9e96-f5df380ae61d",
   "metadata": {
    "editable": true,
    "slideshow": {
     "slide_type": ""
    },
    "tags": []
   },
   "source": [
    "- We see that this information comes in a variety of forms:\n",
    "    1. `XX to XX petals`\n",
    "    2. `XX-XX petals`\n",
    "    3. `XX petals`"
   ]
  },
  {
   "cell_type": "markdown",
   "id": "c65b3813-dba2-4014-a635-033cd1dc1ad9",
   "metadata": {
    "editable": true,
    "slideshow": {
     "slide_type": ""
    },
    "tags": []
   },
   "source": [
    "- How can we extract this information?"
   ]
  },
  {
   "cell_type": "markdown",
   "id": "2d6a560b-bfff-4c8b-900c-b763d57641f6",
   "metadata": {
    "editable": true,
    "slideshow": {
     "slide_type": ""
    },
    "tags": []
   },
   "source": [
    "- We can use the `.str.findall()` Series method to find *all* occurrences of a pattern or regular expression\n",
    "    - `Series.str.findall(PATTERN)` returns a Series of lists of strings with all matches of `PATTERN`\n",
    "    - [Documentation for `.str.findall()`](https://pandas.pydata.org/docs/reference/api/pandas.Series.str.findall.html)"
   ]
  },
  {
   "cell_type": "markdown",
   "id": "ec1d12b6-7984-48f2-a155-47545ca795f6",
   "metadata": {
    "editable": true,
    "slideshow": {
     "slide_type": ""
    },
    "tags": []
   },
   "source": [
    "- There are other Series methods that do similar things:\n",
    "    - `.str.extract()` [[Documentation]](https://pandas.pydata.org/docs/reference/api/pandas.Series.str.extract.html)\n",
    "    - `.str.extractall()` [[Documentation]](https://pandas.pydata.org/docs/reference/api/pandas.Series.str.extractall.html)"
   ]
  },
  {
   "cell_type": "markdown",
   "id": "6afa6bbe-6cbb-4acc-ae55-ce32ac288857",
   "metadata": {
    "editable": true,
    "slideshow": {
     "slide_type": ""
    },
    "tags": []
   },
   "source": [
    "- Let's create a new DataFrame called `extract_df`, using regular expressions to create additional columns containing the number of petals, based on the 3 forms above "
   ]
  },
  {
   "cell_type": "code",
   "execution_count": null,
   "id": "43be48db-d25c-4c8b-a703-04844fedab8b",
   "metadata": {
    "editable": true,
    "slideshow": {
     "slide_type": ""
    },
    "tags": []
   },
   "outputs": [],
   "source": []
  },
  {
   "cell_type": "markdown",
   "id": "4de2d19c-bac1-40b2-9f6b-2ca6c154c7e3",
   "metadata": {
    "editable": true,
    "slideshow": {
     "slide_type": ""
    },
    "tags": []
   },
   "source": [
    "- Not too bad!\n",
    "\n",
    "\n",
    "- Suppose that we want to distill this information into a single number\n",
    "\n",
    "\n",
    "- Perhaps we can compute the average of these values?\n",
    "\n",
    "\n",
    "- Since we're dealing with Series of lists of tuples 😳, this is a bit complicated\n",
    "\n",
    "\n",
    "- One way to do this would be to use the `.apply()` method"
   ]
  },
  {
   "cell_type": "markdown",
   "id": "01a3c636-0c4a-4235-809c-25583345af3c",
   "metadata": {
    "editable": true,
    "slideshow": {
     "slide_type": ""
    },
    "tags": []
   },
   "source": [
    "### The `.apply()` method"
   ]
  },
  {
   "cell_type": "markdown",
   "id": "de51db71-f612-4c79-aa0b-a0402edecfdd",
   "metadata": {
    "editable": true,
    "slideshow": {
     "slide_type": ""
    },
    "tags": []
   },
   "source": [
    "- The `.apply()` method lets you apply a function to every row or every column of a DataFrame"
   ]
  },
  {
   "cell_type": "markdown",
   "id": "30d46434-2741-412f-a00b-de4fce45e4c6",
   "metadata": {
    "editable": true,
    "slideshow": {
     "slide_type": ""
    },
    "tags": []
   },
   "source": [
    "- Usage: `.apply(FUNCTION, axis=AXIS)`\n",
    "    - If `AXIS='index'`, then `FUNCTION` is applied to each column (yes, this feels backwards!)\n",
    "    - If `AXIS='columns'`, then `FUNCTION` is applied to each row (yes, this feels backwards!)\n",
    "    - `FUNCTION` should take one argument, the row or column of the DataFrame, depending on the value of `AXIS`"
   ]
  },
  {
   "cell_type": "markdown",
   "id": "ccb91b8c-02a9-42de-8415-92a770f9b446",
   "metadata": {
    "editable": true,
    "slideshow": {
     "slide_type": ""
    },
    "tags": []
   },
   "source": [
    "- ⚠️ **Warning.** `.apply()` is very flexible, but it is also very slow! \n",
    "    - You should think carefully about whether there is a built-in Pandas Series/DataFrame method you can use instead, like the ones we discussed in Lesson 15 for numerical computations and Lesson 20 for string operations"
   ]
  },
  {
   "cell_type": "markdown",
   "id": "02aefaac-5662-4214-888c-9d053f058843",
   "metadata": {
    "editable": true,
    "slideshow": {
     "slide_type": ""
    },
    "tags": []
   },
   "source": [
    "- Let's write a function `average_petals()` that takes a row `r` from `extract_df` as input, and\n",
    "    - Puts all the petal values from `PETALS1`, `PETALS2`, and `PETALS3` into a single list\n",
    "    - Take the average of the petal values in the newly created list"
   ]
  },
  {
   "cell_type": "code",
   "execution_count": null,
   "id": "c36c42db-b1d7-4267-bab8-edb4ea582aa4",
   "metadata": {
    "editable": true,
    "slideshow": {
     "slide_type": ""
    },
    "tags": []
   },
   "outputs": [],
   "source": [
    "import numpy as np\n",
    "\n",
    "def average_petals(r):\n",
    "    all_values = []\n",
    "    \n",
    "    for t in r['PETALS1']:\n",
    "        all_values.append(t[0])\n",
    "        all_values.append(t[1])\n",
    "        \n",
    "    for t in r['PETALS2']:\n",
    "        all_values.append(t[0])\n",
    "        all_values.append(t[1])\n",
    "        \n",
    "    for i in r['PETALS3']:\n",
    "        all_values.append(i)\n",
    "        \n",
    "    all_values = [int(x) for x in all_values]\n",
    "    \n",
    "    if len(all_values) > 0:\n",
    "        return np.mean(all_values)\n",
    "    else:\n",
    "        return np.nan"
   ]
  },
  {
   "cell_type": "markdown",
   "id": "967efba3-9952-4863-a0c8-c22d5e2ff223",
   "metadata": {
    "editable": true,
    "slideshow": {
     "slide_type": ""
    },
    "tags": []
   },
   "source": [
    "- Let's test this out: "
   ]
  },
  {
   "cell_type": "code",
   "execution_count": null,
   "id": "6b26c33b-c203-4d26-b66f-476315432713",
   "metadata": {
    "editable": true,
    "slideshow": {
     "slide_type": ""
    },
    "tags": []
   },
   "outputs": [],
   "source": []
  },
  {
   "cell_type": "markdown",
   "id": "b87ac176-6509-47d9-bd56-859d4c579a95",
   "metadata": {
    "editable": true,
    "slideshow": {
     "slide_type": ""
    },
    "tags": []
   },
   "source": [
    "- We can add this column to `extract_df` and clean things up a little bit: "
   ]
  },
  {
   "cell_type": "code",
   "execution_count": null,
   "id": "ee7166a2-00e3-4636-a4df-3ac12bfae203",
   "metadata": {
    "editable": true,
    "slideshow": {
     "slide_type": ""
    },
    "tags": []
   },
   "outputs": [],
   "source": []
  },
  {
   "cell_type": "markdown",
   "id": "21e22b07-94ea-423f-9210-16e5b3db82be",
   "metadata": {
    "editable": true,
    "slideshow": {
     "slide_type": ""
    },
    "tags": []
   },
   "source": [
    "<hr style=\"border-top: 2px solid gray; margin-top: 1px; margin-bottom: 1px\"></hr>"
   ]
  },
  {
   "cell_type": "markdown",
   "id": "238197d6-a9ea-408f-b695-f4bef064a7c2",
   "metadata": {
    "editable": true,
    "slideshow": {
     "slide_type": ""
    },
    "tags": []
   },
   "source": [
    "## Notes and sources"
   ]
  },
  {
   "cell_type": "markdown",
   "id": "ae9e898a-88bd-4db9-b36c-f8edf915bd76",
   "metadata": {
    "editable": true,
    "slideshow": {
     "slide_type": ""
    },
    "tags": []
   },
   "source": [
    "- Lesson and exercises inspired by \n",
    "    - Chapter 14 of [R for Data Science](https://r4ds.had.co.nz/)\n",
    "    - [This article on re-thought.com](https://re-thought.com/python-regex-example-for-pattern-2-digits-to-2-digits-26-to-40/)"
   ]
  }
 ],
 "metadata": {
  "kernelspec": {
   "display_name": "Python 3 (ipykernel)",
   "language": "python",
   "name": "python3"
  },
  "language_info": {
   "codemirror_mode": {
    "name": "ipython",
    "version": 3
   },
   "file_extension": ".py",
   "mimetype": "text/x-python",
   "name": "python",
   "nbconvert_exporter": "python",
   "pygments_lexer": "ipython3",
   "version": "3.11.3"
  }
 },
 "nbformat": 4,
 "nbformat_minor": 5
}
